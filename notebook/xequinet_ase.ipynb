{
  "cells": [
    {
      "cell_type": "markdown",
      "metadata": {
        "id": "view-in-github",
        "colab_type": "text"
      },
      "source": [
        "<a href=\"https://colab.research.google.com/github/kangmg/XequiNet/blob/master/notebook/xequinet_ase.ipynb\" target=\"_parent\"><img src=\"https://colab.research.google.com/assets/colab-badge.svg\" alt=\"Open In Colab\"/></a>"
      ]
    },
    {
      "cell_type": "code",
      "source": [
        "try: import xequinet\n",
        "except ModuleNotFoundError:\n",
        "    !pip install git+https://github.com/kangmg/XequiNet.git"
      ],
      "metadata": {
        "id": "TBsZ9BvOsEck",
        "outputId": "2e2720c4-f3ab-4c12-a0c2-2bb7a3a60f9c",
        "colab": {
          "base_uri": "https://localhost:8080/"
        }
      },
      "execution_count": 2,
      "outputs": [
        {
          "output_type": "stream",
          "name": "stdout",
          "text": [
            "Collecting git+https://github.com/kangmg/XequiNet.git\n",
            "  Cloning https://github.com/kangmg/XequiNet.git to /tmp/pip-req-build-l7eiat1c\n",
            "  Running command git clone --filter=blob:none --quiet https://github.com/kangmg/XequiNet.git /tmp/pip-req-build-l7eiat1c\n",
            "  Resolved https://github.com/kangmg/XequiNet.git to commit 633d1ad25140ddeff5d23a515bc443d9e4b525c2\n",
            "  Preparing metadata (setup.py) ... \u001b[?25l\u001b[?25hdone\n",
            "Requirement already satisfied: torch>=2.0 in /usr/local/lib/python3.10/dist-packages (from XequiNet==0.3.6) (2.5.0+cu121)\n",
            "Collecting torch-geometric>=2.0 (from XequiNet==0.3.6)\n",
            "  Downloading torch_geometric-2.6.1-py3-none-any.whl.metadata (63 kB)\n",
            "\u001b[2K     \u001b[90m━━━━━━━━━━━━━━━━━━━━━━━━━━━━━━━━━━━━━━━━\u001b[0m \u001b[32m63.1/63.1 kB\u001b[0m \u001b[31m2.8 MB/s\u001b[0m eta \u001b[36m0:00:00\u001b[0m\n",
            "\u001b[?25hCollecting torch-cluster (from XequiNet==0.3.6)\n",
            "  Downloading torch_cluster-1.6.3.tar.gz (54 kB)\n",
            "\u001b[2K     \u001b[90m━━━━━━━━━━━━━━━━━━━━━━━━━━━━━━━━━━━━━━━━\u001b[0m \u001b[32m54.5/54.5 kB\u001b[0m \u001b[31m4.0 MB/s\u001b[0m eta \u001b[36m0:00:00\u001b[0m\n",
            "\u001b[?25h  Preparing metadata (setup.py) ... \u001b[?25l\u001b[?25hdone\n",
            "Collecting torch-scatter (from XequiNet==0.3.6)\n",
            "  Downloading torch_scatter-2.1.2.tar.gz (108 kB)\n",
            "\u001b[2K     \u001b[90m━━━━━━━━━━━━━━━━━━━━━━━━━━━━━━━━━━━━━━━━\u001b[0m \u001b[32m108.0/108.0 kB\u001b[0m \u001b[31m5.5 MB/s\u001b[0m eta \u001b[36m0:00:00\u001b[0m\n",
            "\u001b[?25h  Preparing metadata (setup.py) ... \u001b[?25l\u001b[?25hdone\n",
            "Collecting pytorch-warmup>=0.1 (from XequiNet==0.3.6)\n",
            "  Downloading pytorch_warmup-0.1.1-py3-none-any.whl.metadata (6.2 kB)\n",
            "Collecting e3nn>=0.5 (from XequiNet==0.3.6)\n",
            "  Downloading e3nn-0.5.4-py3-none-any.whl.metadata (5.4 kB)\n",
            "Requirement already satisfied: pydantic>=2.6 in /usr/local/lib/python3.10/dist-packages (from XequiNet==0.3.6) (2.9.2)\n",
            "Collecting ase>=3.22 (from XequiNet==0.3.6)\n",
            "  Downloading ase-3.23.0-py3-none-any.whl.metadata (3.8 kB)\n",
            "Collecting pyscf>=2.4 (from XequiNet==0.3.6)\n",
            "  Downloading pyscf-2.7.0-py3-none-manylinux_2_17_x86_64.manylinux2014_x86_64.whl.metadata (6.2 kB)\n",
            "Requirement already satisfied: numpy>=1.18.5 in /usr/local/lib/python3.10/dist-packages (from ase>=3.22->XequiNet==0.3.6) (1.26.4)\n",
            "Requirement already satisfied: scipy>=1.6.0 in /usr/local/lib/python3.10/dist-packages (from ase>=3.22->XequiNet==0.3.6) (1.13.1)\n",
            "Requirement already satisfied: matplotlib>=3.3.4 in /usr/local/lib/python3.10/dist-packages (from ase>=3.22->XequiNet==0.3.6) (3.8.0)\n",
            "Requirement already satisfied: sympy in /usr/local/lib/python3.10/dist-packages (from e3nn>=0.5->XequiNet==0.3.6) (1.13.1)\n",
            "Collecting opt-einsum-fx>=0.1.4 (from e3nn>=0.5->XequiNet==0.3.6)\n",
            "  Downloading opt_einsum_fx-0.1.4-py3-none-any.whl.metadata (3.3 kB)\n",
            "Requirement already satisfied: annotated-types>=0.6.0 in /usr/local/lib/python3.10/dist-packages (from pydantic>=2.6->XequiNet==0.3.6) (0.7.0)\n",
            "Requirement already satisfied: pydantic-core==2.23.4 in /usr/local/lib/python3.10/dist-packages (from pydantic>=2.6->XequiNet==0.3.6) (2.23.4)\n",
            "Requirement already satisfied: typing-extensions>=4.6.1 in /usr/local/lib/python3.10/dist-packages (from pydantic>=2.6->XequiNet==0.3.6) (4.12.2)\n",
            "Requirement already satisfied: h5py>=2.7 in /usr/local/lib/python3.10/dist-packages (from pyscf>=2.4->XequiNet==0.3.6) (3.12.1)\n",
            "Requirement already satisfied: setuptools in /usr/local/lib/python3.10/dist-packages (from pyscf>=2.4->XequiNet==0.3.6) (75.1.0)\n",
            "Requirement already satisfied: filelock in /usr/local/lib/python3.10/dist-packages (from torch>=2.0->XequiNet==0.3.6) (3.16.1)\n",
            "Requirement already satisfied: networkx in /usr/local/lib/python3.10/dist-packages (from torch>=2.0->XequiNet==0.3.6) (3.4.2)\n",
            "Requirement already satisfied: jinja2 in /usr/local/lib/python3.10/dist-packages (from torch>=2.0->XequiNet==0.3.6) (3.1.4)\n",
            "Requirement already satisfied: fsspec in /usr/local/lib/python3.10/dist-packages (from torch>=2.0->XequiNet==0.3.6) (2024.10.0)\n",
            "Requirement already satisfied: mpmath<1.4,>=1.1.0 in /usr/local/lib/python3.10/dist-packages (from sympy->e3nn>=0.5->XequiNet==0.3.6) (1.3.0)\n",
            "Requirement already satisfied: aiohttp in /usr/local/lib/python3.10/dist-packages (from torch-geometric>=2.0->XequiNet==0.3.6) (3.10.10)\n",
            "Requirement already satisfied: psutil>=5.8.0 in /usr/local/lib/python3.10/dist-packages (from torch-geometric>=2.0->XequiNet==0.3.6) (5.9.5)\n",
            "Requirement already satisfied: pyparsing in /usr/local/lib/python3.10/dist-packages (from torch-geometric>=2.0->XequiNet==0.3.6) (3.2.0)\n",
            "Requirement already satisfied: requests in /usr/local/lib/python3.10/dist-packages (from torch-geometric>=2.0->XequiNet==0.3.6) (2.32.3)\n",
            "Requirement already satisfied: tqdm in /usr/local/lib/python3.10/dist-packages (from torch-geometric>=2.0->XequiNet==0.3.6) (4.66.6)\n",
            "Requirement already satisfied: contourpy>=1.0.1 in /usr/local/lib/python3.10/dist-packages (from matplotlib>=3.3.4->ase>=3.22->XequiNet==0.3.6) (1.3.0)\n",
            "Requirement already satisfied: cycler>=0.10 in /usr/local/lib/python3.10/dist-packages (from matplotlib>=3.3.4->ase>=3.22->XequiNet==0.3.6) (0.12.1)\n",
            "Requirement already satisfied: fonttools>=4.22.0 in /usr/local/lib/python3.10/dist-packages (from matplotlib>=3.3.4->ase>=3.22->XequiNet==0.3.6) (4.54.1)\n",
            "Requirement already satisfied: kiwisolver>=1.0.1 in /usr/local/lib/python3.10/dist-packages (from matplotlib>=3.3.4->ase>=3.22->XequiNet==0.3.6) (1.4.7)\n",
            "Requirement already satisfied: packaging>=20.0 in /usr/local/lib/python3.10/dist-packages (from matplotlib>=3.3.4->ase>=3.22->XequiNet==0.3.6) (24.2)\n",
            "Requirement already satisfied: pillow>=6.2.0 in /usr/local/lib/python3.10/dist-packages (from matplotlib>=3.3.4->ase>=3.22->XequiNet==0.3.6) (11.0.0)\n",
            "Requirement already satisfied: python-dateutil>=2.7 in /usr/local/lib/python3.10/dist-packages (from matplotlib>=3.3.4->ase>=3.22->XequiNet==0.3.6) (2.8.2)\n",
            "Requirement already satisfied: opt-einsum in /usr/local/lib/python3.10/dist-packages (from opt-einsum-fx>=0.1.4->e3nn>=0.5->XequiNet==0.3.6) (3.4.0)\n",
            "Requirement already satisfied: aiohappyeyeballs>=2.3.0 in /usr/local/lib/python3.10/dist-packages (from aiohttp->torch-geometric>=2.0->XequiNet==0.3.6) (2.4.3)\n",
            "Requirement already satisfied: aiosignal>=1.1.2 in /usr/local/lib/python3.10/dist-packages (from aiohttp->torch-geometric>=2.0->XequiNet==0.3.6) (1.3.1)\n",
            "Requirement already satisfied: attrs>=17.3.0 in /usr/local/lib/python3.10/dist-packages (from aiohttp->torch-geometric>=2.0->XequiNet==0.3.6) (24.2.0)\n",
            "Requirement already satisfied: frozenlist>=1.1.1 in /usr/local/lib/python3.10/dist-packages (from aiohttp->torch-geometric>=2.0->XequiNet==0.3.6) (1.5.0)\n",
            "Requirement already satisfied: multidict<7.0,>=4.5 in /usr/local/lib/python3.10/dist-packages (from aiohttp->torch-geometric>=2.0->XequiNet==0.3.6) (6.1.0)\n",
            "Requirement already satisfied: yarl<2.0,>=1.12.0 in /usr/local/lib/python3.10/dist-packages (from aiohttp->torch-geometric>=2.0->XequiNet==0.3.6) (1.17.1)\n",
            "Requirement already satisfied: async-timeout<5.0,>=4.0 in /usr/local/lib/python3.10/dist-packages (from aiohttp->torch-geometric>=2.0->XequiNet==0.3.6) (4.0.3)\n",
            "Requirement already satisfied: MarkupSafe>=2.0 in /usr/local/lib/python3.10/dist-packages (from jinja2->torch>=2.0->XequiNet==0.3.6) (3.0.2)\n",
            "Requirement already satisfied: charset-normalizer<4,>=2 in /usr/local/lib/python3.10/dist-packages (from requests->torch-geometric>=2.0->XequiNet==0.3.6) (3.4.0)\n",
            "Requirement already satisfied: idna<4,>=2.5 in /usr/local/lib/python3.10/dist-packages (from requests->torch-geometric>=2.0->XequiNet==0.3.6) (3.10)\n",
            "Requirement already satisfied: urllib3<3,>=1.21.1 in /usr/local/lib/python3.10/dist-packages (from requests->torch-geometric>=2.0->XequiNet==0.3.6) (2.2.3)\n",
            "Requirement already satisfied: certifi>=2017.4.17 in /usr/local/lib/python3.10/dist-packages (from requests->torch-geometric>=2.0->XequiNet==0.3.6) (2024.8.30)\n",
            "Requirement already satisfied: six>=1.5 in /usr/local/lib/python3.10/dist-packages (from python-dateutil>=2.7->matplotlib>=3.3.4->ase>=3.22->XequiNet==0.3.6) (1.16.0)\n",
            "Requirement already satisfied: propcache>=0.2.0 in /usr/local/lib/python3.10/dist-packages (from yarl<2.0,>=1.12.0->aiohttp->torch-geometric>=2.0->XequiNet==0.3.6) (0.2.0)\n",
            "Downloading ase-3.23.0-py3-none-any.whl (2.9 MB)\n",
            "\u001b[2K   \u001b[90m━━━━━━━━━━━━━━━━━━━━━━━━━━━━━━━━━━━━━━━━\u001b[0m \u001b[32m2.9/2.9 MB\u001b[0m \u001b[31m56.8 MB/s\u001b[0m eta \u001b[36m0:00:00\u001b[0m\n",
            "\u001b[?25hDownloading e3nn-0.5.4-py3-none-any.whl (447 kB)\n",
            "\u001b[2K   \u001b[90m━━━━━━━━━━━━━━━━━━━━━━━━━━━━━━━━━━━━━━━━\u001b[0m \u001b[32m447.2/447.2 kB\u001b[0m \u001b[31m24.7 MB/s\u001b[0m eta \u001b[36m0:00:00\u001b[0m\n",
            "\u001b[?25hDownloading pyscf-2.7.0-py3-none-manylinux_2_17_x86_64.manylinux2014_x86_64.whl (48.7 MB)\n",
            "\u001b[2K   \u001b[90m━━━━━━━━━━━━━━━━━━━━━━━━━━━━━━━━━━━━━━━━\u001b[0m \u001b[32m48.7/48.7 MB\u001b[0m \u001b[31m19.2 MB/s\u001b[0m eta \u001b[36m0:00:00\u001b[0m\n",
            "\u001b[?25hDownloading pytorch_warmup-0.1.1-py3-none-any.whl (6.6 kB)\n",
            "Downloading torch_geometric-2.6.1-py3-none-any.whl (1.1 MB)\n",
            "\u001b[2K   \u001b[90m━━━━━━━━━━━━━━━━━━━━━━━━━━━━━━━━━━━━━━━━\u001b[0m \u001b[32m1.1/1.1 MB\u001b[0m \u001b[31m52.7 MB/s\u001b[0m eta \u001b[36m0:00:00\u001b[0m\n",
            "\u001b[?25hDownloading opt_einsum_fx-0.1.4-py3-none-any.whl (13 kB)\n",
            "Building wheels for collected packages: XequiNet, torch-cluster, torch-scatter\n",
            "  Building wheel for XequiNet (setup.py) ... \u001b[?25l\u001b[?25hdone\n",
            "  Created wheel for XequiNet: filename=XequiNet-0.3.6-py3-none-any.whl size=254523 sha256=47ea60693fbbe2a0e2defbc5440eef8818b348d48d8bceb96103a3c7c46f6c88\n",
            "  Stored in directory: /tmp/pip-ephem-wheel-cache-uv6ou9v_/wheels/77/07/48/a2cf6ddc22376fb2212d8ac9ddb71d4a4f6ab6c16851dcdcc2\n",
            "  Building wheel for torch-cluster (setup.py) ... \u001b[?25l\u001b[?25hdone\n",
            "  Created wheel for torch-cluster: filename=torch_cluster-1.6.3-cp310-cp310-linux_x86_64.whl size=728767 sha256=d11ef845a4c983a64d8ccbd6f137a9ecb4092cf66c902b84a6c8af15b2c6cde3\n",
            "  Stored in directory: /root/.cache/pip/wheels/51/78/c3/536637b3cdcc3313aa5e8851a6c72b97f6a01877e68c7595e3\n",
            "  Building wheel for torch-scatter (setup.py) ... \u001b[?25l\u001b[?25hdone\n",
            "  Created wheel for torch-scatter: filename=torch_scatter-2.1.2-cp310-cp310-linux_x86_64.whl size=538974 sha256=cf232f4ce197d95d050480f487fa02766eb490f3b95cd80b0adfb1d62b4f78cb\n",
            "  Stored in directory: /root/.cache/pip/wheels/92/f1/2b/3b46d54b134259f58c8363568569053248040859b1a145b3ce\n",
            "Successfully built XequiNet torch-cluster torch-scatter\n",
            "Installing collected packages: torch-scatter, torch-cluster, pyscf, pytorch-warmup, opt-einsum-fx, ase, torch-geometric, e3nn, XequiNet\n",
            "Successfully installed XequiNet-0.3.6 ase-3.23.0 e3nn-0.5.4 opt-einsum-fx-0.1.4 pyscf-2.7.0 pytorch-warmup-0.1.1 torch-cluster-1.6.3 torch-geometric-2.6.1 torch-scatter-2.1.2\n"
          ]
        }
      ]
    },
    {
      "cell_type": "code",
      "source": [
        "#@title Install conda\n",
        "\n",
        "try:\n",
        "  import condacolab\n",
        "  condacolab.check()\n",
        "except:\n",
        "  %pip install condacolab\n",
        "  import condacolab\n",
        "  condacolab.install()"
      ],
      "metadata": {
        "cellView": "form",
        "id": "c3hxhbjVsSuK",
        "outputId": "eb3d6368-0715-47ef-e503-c7e305e8792d",
        "colab": {
          "base_uri": "https://localhost:8080/"
        }
      },
      "execution_count": 1,
      "outputs": [
        {
          "output_type": "stream",
          "name": "stdout",
          "text": [
            "✨🍰✨ Everything looks OK!\n"
          ]
        }
      ]
    },
    {
      "cell_type": "code",
      "source": [
        "# xtb calculator used for delta learning model\n",
        "!conda install -q tblite\n",
        "!conda install -q tblite-python"
      ],
      "metadata": {
        "id": "1VGJH8ThsV8Y",
        "outputId": "0f45630f-d8dc-4e2b-c0a8-56056c3e0486",
        "colab": {
          "base_uri": "https://localhost:8080/"
        }
      },
      "execution_count": 2,
      "outputs": [
        {
          "output_type": "stream",
          "name": "stdout",
          "text": [
            "Channels:\n",
            " - conda-forge\n",
            "Platform: linux-64\n",
            "Collecting package metadata (repodata.json): ...working... done\n",
            "Solving environment: ...working... done\n",
            "\n",
            "# All requested packages already installed.\n",
            "\n",
            "Channels:\n",
            " - conda-forge\n",
            "Platform: linux-64\n",
            "Collecting package metadata (repodata.json): ...working... done\n",
            "Solving environment: ...working... done\n",
            "\n",
            "# All requested packages already installed.\n",
            "\n"
          ]
        }
      ]
    },
    {
      "cell_type": "code",
      "source": [
        "# re-check tblite is installed\n",
        "try:\n",
        "  from tblite.ase import TBLite\n",
        "except:\n",
        "  print('tblite is not callable.\\n')\n",
        "  !conda install -q tblite\n",
        "  !conda install -q tblite-python\n",
        "\n",
        "  print('\\nRestart session . . .')\n",
        "\n",
        "  import os\n",
        "  os._exit(0)"
      ],
      "metadata": {
        "id": "40FjJMKO5wL9"
      },
      "execution_count": 3,
      "outputs": []
    },
    {
      "cell_type": "code",
      "source": [
        "# convert pt to jit\n",
        "\n",
        "# direct learning model\n",
        "!xeqjit -c spice_1109.pt -o md.jit --md\n",
        "!xeqjit -c spice_1109.pt -o geo.jit\n",
        "\n",
        "# delta learning model\n",
        "!xeqjit -c d-spice_1111.pt -o d_md.jit --md\n",
        "!xeqjit -c d-spice_1111.pt -o d_geo.jit"
      ],
      "metadata": {
        "colab": {
          "base_uri": "https://localhost:8080/"
        },
        "id": "AX9hCdrSSD8m",
        "outputId": "4e5047b5-941e-4f65-aa10-3bcd2401473d"
      },
      "execution_count": 5,
      "outputs": [
        {
          "output_type": "stream",
          "name": "stdout",
          "text": [
            "/usr/local/lib/python3.10/dist-packages/xequinet/interface/__init__.py:17: UserWarning: i-PI is not installed, i-PI driver will not be performed.\n",
            "  warnings.warn(\"i-PI is not installed, i-PI driver will not be performed.\")\n",
            "/usr/local/lib/python3.10/dist-packages/xequinet/interface/__init__.py:17: UserWarning: i-PI is not installed, i-PI driver will not be performed.\n",
            "  warnings.warn(\"i-PI is not installed, i-PI driver will not be performed.\")\n",
            "/usr/local/lib/python3.10/dist-packages/xequinet/interface/__init__.py:17: UserWarning: i-PI is not installed, i-PI driver will not be performed.\n",
            "  warnings.warn(\"i-PI is not installed, i-PI driver will not be performed.\")\n",
            "/usr/local/lib/python3.10/dist-packages/xequinet/interface/__init__.py:17: UserWarning: i-PI is not installed, i-PI driver will not be performed.\n",
            "  warnings.warn(\"i-PI is not installed, i-PI driver will not be performed.\")\n"
          ]
        }
      ]
    },
    {
      "cell_type": "code",
      "source": [
        "import warnings\n",
        "warnings.filterwarnings('ignore')"
      ],
      "metadata": {
        "id": "hi_K7buE5eOw"
      },
      "execution_count": 6,
      "outputs": []
    },
    {
      "cell_type": "markdown",
      "source": [
        "<br>\n",
        "<br>\n",
        "<font color=skyblue size=5> direct learned model </font>\n",
        "<br>\n",
        "<br>\n"
      ],
      "metadata": {
        "id": "ARgOBjUiRoj3"
      }
    },
    {
      "cell_type": "code",
      "source": [
        "# md type model ase test\n",
        "\n",
        "from xequinet.interface import XeqCalculator\n",
        "from ase.build import molecule\n",
        "\n",
        "atoms = molecule('C6H6')\n",
        "\n",
        "calc = XeqCalculator(ckpt_file='md.jit', model_type='md')\n",
        "\n",
        "atoms.calc = calc\n",
        "\n",
        "atoms.get_potential_energy()"
      ],
      "metadata": {
        "colab": {
          "base_uri": "https://localhost:8080/"
        },
        "id": "VwP4sFdDNV14",
        "outputId": "926ae7e7-d3f3-48e0-8ee8-666405b83100"
      },
      "execution_count": 7,
      "outputs": [
        {
          "output_type": "execute_result",
          "data": {
            "text/plain": [
              "-6324.118982349497"
            ]
          },
          "metadata": {},
          "execution_count": 7
        }
      ]
    },
    {
      "cell_type": "code",
      "source": [
        "# geometry type model ase test\n",
        "\n",
        "from xequinet.interface import XeqCalculator\n",
        "from ase.build import molecule\n",
        "\n",
        "atoms = molecule('C6H6')\n",
        "\n",
        "calc = XeqCalculator(ckpt_file='geo.jit', model_type='geometry')\n",
        "\n",
        "atoms.calc = calc\n",
        "\n",
        "atoms.get_potential_energy()"
      ],
      "metadata": {
        "colab": {
          "base_uri": "https://localhost:8080/"
        },
        "id": "m4fqiw3vWcw_",
        "outputId": "862b3f69-f394-4ad1-ed1c-4dea7463663e"
      },
      "execution_count": 8,
      "outputs": [
        {
          "output_type": "execute_result",
          "data": {
            "text/plain": [
              "-6324.118975673778"
            ]
          },
          "metadata": {},
          "execution_count": 8
        }
      ]
    },
    {
      "cell_type": "markdown",
      "source": [
        "<br>\n",
        "<br>\n",
        "<font color=skyblue size=5> $\\Delta$-learned model </font>\n",
        "<br>\n",
        "<br>\n"
      ],
      "metadata": {
        "id": "kPt9ikHVTMNz"
      }
    },
    {
      "cell_type": "code",
      "source": [
        "# geo type delta learned model\n",
        "from ase.calculators.mixing import SumCalculator\n",
        "from xequinet.interface import XeqCalculator\n",
        "from tblite.ase import TBLite\n",
        "from ase.build import molecule\n",
        "\n",
        "atoms = molecule('C6H6')\n",
        "\n",
        "delta_calc = SumCalculator([\n",
        "    XeqCalculator(ckpt_file='d_geo.jit', model_type='geometry'), # geo type\n",
        "    TBLite(verbosity=0, method='GFN2-xTB'), # xtb\n",
        "])\n",
        "\n",
        "atoms.calc = delta_calc\n",
        "\n",
        "atoms.get_potential_energy()"
      ],
      "metadata": {
        "colab": {
          "base_uri": "https://localhost:8080/"
        },
        "id": "aejSt5YlUlNo",
        "outputId": "5ec9b2c9-e8d9-4b19-e315-72d5737a8340"
      },
      "execution_count": 9,
      "outputs": [
        {
          "output_type": "execute_result",
          "data": {
            "text/plain": [
              "-6324.108374815414"
            ]
          },
          "metadata": {},
          "execution_count": 9
        }
      ]
    },
    {
      "cell_type": "code",
      "source": [
        "# md type delta learned model\n",
        "\n",
        "from ase.calculators.mixing import SumCalculator\n",
        "from xequinet.interface import XeqCalculator\n",
        "from tblite.ase import TBLite\n",
        "from ase.build import molecule\n",
        "\n",
        "atoms = molecule('C6H6')\n",
        "\n",
        "delta_calc = SumCalculator([\n",
        "    XeqCalculator(ckpt_file='d_md.jit', model_type='md'), # md type\n",
        "    TBLite(verbosity=0, method='GFN2-xTB'), # xtb\n",
        "])\n",
        "\n",
        "atoms.calc = delta_calc\n",
        "\n",
        "atoms.get_potential_energy()"
      ],
      "metadata": {
        "colab": {
          "base_uri": "https://localhost:8080/"
        },
        "id": "LMZPY9hmWGZR",
        "outputId": "0ef0c374-a944-4e2d-d986-75a539578c48"
      },
      "execution_count": 10,
      "outputs": [
        {
          "output_type": "execute_result",
          "data": {
            "text/plain": [
              "-6324.1083759479025"
            ]
          },
          "metadata": {},
          "execution_count": 10
        }
      ]
    }
  ],
  "metadata": {
    "colab": {
      "provenance": [],
      "include_colab_link": true
    },
    "kernelspec": {
      "display_name": "Python 3",
      "name": "python3"
    }
  },
  "nbformat": 4,
  "nbformat_minor": 0
}
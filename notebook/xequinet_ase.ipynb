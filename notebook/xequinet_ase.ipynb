{
  "cells": [
    {
      "cell_type": "markdown",
      "metadata": {
        "id": "view-in-github",
        "colab_type": "text"
      },
      "source": [
        "<a href=\"https://colab.research.google.com/github/kangmg/XequiNet/blob/master/notebook/xequinet_ase.ipynb\" target=\"_parent\"><img src=\"https://colab.research.google.com/assets/colab-badge.svg\" alt=\"Open In Colab\"/></a>"
      ]
    },
    {
      "cell_type": "code",
      "source": [
        "try: import xequinet\n",
        "except ModuleNotFoundError:\n",
        "    !pip install git+https://github.com/kangmg/XequiNet.git"
      ],
      "metadata": {
        "id": "TBsZ9BvOsEck"
      },
      "execution_count": 4,
      "outputs": []
    },
    {
      "cell_type": "code",
      "source": [
        "#@title Install conda\n",
        "\n",
        "try:\n",
        "  import condacolab\n",
        "  condacolab.check()\n",
        "except:\n",
        "  %pip install condacolab\n",
        "  import condacolab\n",
        "  condacolab.install()"
      ],
      "metadata": {
        "cellView": "form",
        "id": "c3hxhbjVsSuK",
        "outputId": "adc17bdc-7460-4d0f-e5c8-73c0142e6bfc",
        "colab": {
          "base_uri": "https://localhost:8080/"
        }
      },
      "execution_count": 2,
      "outputs": [
        {
          "output_type": "stream",
          "name": "stdout",
          "text": [
            "✨🍰✨ Everything looks OK!\n"
          ]
        }
      ]
    },
    {
      "cell_type": "code",
      "source": [
        "# xtb calculator used for delta learning model\n",
        "!conda install tblite\n",
        "!conda install tblite-python"
      ],
      "metadata": {
        "id": "1VGJH8ThsV8Y",
        "outputId": "b8b0bd98-c455-44cc-9261-ba548217d5c6",
        "colab": {
          "base_uri": "https://localhost:8080/"
        }
      },
      "execution_count": 3,
      "outputs": [
        {
          "output_type": "stream",
          "name": "stdout",
          "text": [
            "Channels:\n",
            " - conda-forge\n",
            "Platform: linux-64\n",
            "Collecting package metadata (repodata.json): ...working... done\n",
            "Solving environment: ...working... done\n",
            "\n",
            "## Package Plan ##\n",
            "\n",
            "  environment location: /usr/local\n",
            "\n",
            "  added / updated specs:\n",
            "    - tblite\n",
            "\n",
            "\n",
            "The following packages will be downloaded:\n",
            "\n",
            "    package                    |            build\n",
            "    ---------------------------|-----------------\n",
            "    ca-certificates-2024.8.30  |       hbcca054_0         155 KB  conda-forge\n",
            "    certifi-2024.8.30          |     pyhd8ed1ab_0         160 KB  conda-forge\n",
            "    dftd4-3.6.0                |       hf49bc11_0         587 KB  conda-forge\n",
            "    libblas-3.9.0              |25_linux64_openblas          15 KB  conda-forge\n",
            "    libgcc-14.2.0              |       h77fa898_1         829 KB  conda-forge\n",
            "    libgcc-ng-14.2.0           |       h69a702a_1          53 KB  conda-forge\n",
            "    libgfortran-14.2.0         |       h69a702a_1          53 KB  conda-forge\n",
            "    libgfortran-ng-14.2.0      |       h69a702a_1          53 KB  conda-forge\n",
            "    libgfortran5-14.2.0        |       hd5240d6_1         1.4 MB  conda-forge\n",
            "    libgomp-14.2.0             |       h77fa898_1         450 KB  conda-forge\n",
            "    liblapack-3.9.0            |25_linux64_openblas          15 KB  conda-forge\n",
            "    libopenblas-0.3.28         |pthreads_h94d23a6_1         5.3 MB  conda-forge\n",
            "    mctc-lib-0.3.2             |       h3b12eaf_1         451 KB  conda-forge\n",
            "    openssl-3.4.0              |       hb9d3cd8_0         2.8 MB  conda-forge\n",
            "    simple-dftd3-1.0.0         |       hd59d2e7_0         690 KB  conda-forge\n",
            "    tblite-0.3.0               |       hf49bc11_1         3.5 MB  conda-forge\n",
            "    toml-f-0.4.2               |       h3b12eaf_2         440 KB  conda-forge\n",
            "    ------------------------------------------------------------\n",
            "                                           Total:        16.9 MB\n",
            "\n",
            "The following NEW packages will be INSTALLED:\n",
            "\n",
            "  dftd4              conda-forge/linux-64::dftd4-3.6.0-hf49bc11_0 \n",
            "  libblas            conda-forge/linux-64::libblas-3.9.0-25_linux64_openblas \n",
            "  libgcc             conda-forge/linux-64::libgcc-14.2.0-h77fa898_1 \n",
            "  libgfortran        conda-forge/linux-64::libgfortran-14.2.0-h69a702a_1 \n",
            "  libgfortran-ng     conda-forge/linux-64::libgfortran-ng-14.2.0-h69a702a_1 \n",
            "  libgfortran5       conda-forge/linux-64::libgfortran5-14.2.0-hd5240d6_1 \n",
            "  liblapack          conda-forge/linux-64::liblapack-3.9.0-25_linux64_openblas \n",
            "  libopenblas        conda-forge/linux-64::libopenblas-0.3.28-pthreads_h94d23a6_1 \n",
            "  mctc-lib           conda-forge/linux-64::mctc-lib-0.3.2-h3b12eaf_1 \n",
            "  simple-dftd3       conda-forge/linux-64::simple-dftd3-1.0.0-hd59d2e7_0 \n",
            "  tblite             conda-forge/linux-64::tblite-0.3.0-hf49bc11_1 \n",
            "  toml-f             conda-forge/linux-64::toml-f-0.4.2-h3b12eaf_2 \n",
            "\n",
            "The following packages will be UPDATED:\n",
            "\n",
            "  ca-certificates                     2023.11.17-hbcca054_0 --> 2024.8.30-hbcca054_0 \n",
            "  certifi                           2023.11.17-pyhd8ed1ab_0 --> 2024.8.30-pyhd8ed1ab_0 \n",
            "  libgcc-ng                               13.2.0-h807b86a_3 --> 14.2.0-h69a702a_1 \n",
            "  libgomp                                 13.2.0-h807b86a_3 --> 14.2.0-h77fa898_1 \n",
            "  openssl                                  3.2.0-hd590300_1 --> 3.4.0-hb9d3cd8_0 \n",
            "\n",
            "\n",
            "Preparing transaction: ...working... done\n",
            "Verifying transaction: ...working... done\n",
            "Executing transaction: ...working... done\n",
            "Channels:\n",
            " - conda-forge\n",
            "Platform: linux-64\n",
            "Collecting package metadata (repodata.json): ...working... done\n",
            "Solving environment: ...working... done\n",
            "\n",
            "## Package Plan ##\n",
            "\n",
            "  environment location: /usr/local\n",
            "\n",
            "  added / updated specs:\n",
            "    - tblite-python\n",
            "\n",
            "\n",
            "The following packages will be downloaded:\n",
            "\n",
            "    package                    |            build\n",
            "    ---------------------------|-----------------\n",
            "    libcblas-3.9.0             |25_linux64_openblas          15 KB  conda-forge\n",
            "    libstdcxx-14.2.0           |       hc0a3c3a_1         3.7 MB  conda-forge\n",
            "    numpy-2.1.3                |  py310hd6e36ab_0         7.5 MB  conda-forge\n",
            "    tblite-python-0.3.0        |  py310h3abc789_4          70 KB  conda-forge\n",
            "    ------------------------------------------------------------\n",
            "                                           Total:        11.3 MB\n",
            "\n",
            "The following NEW packages will be INSTALLED:\n",
            "\n",
            "  libcblas           conda-forge/linux-64::libcblas-3.9.0-25_linux64_openblas \n",
            "  libstdcxx          conda-forge/linux-64::libstdcxx-14.2.0-hc0a3c3a_1 \n",
            "  numpy              conda-forge/linux-64::numpy-2.1.3-py310hd6e36ab_0 \n",
            "  tblite-python      conda-forge/linux-64::tblite-python-0.3.0-py310h3abc789_4 \n",
            "\n",
            "\n",
            "Preparing transaction: ...working... done\n",
            "Verifying transaction: ...working... done\n",
            "Executing transaction: ...working... done\n"
          ]
        }
      ]
    },
    {
      "cell_type": "code",
      "source": [
        "# re-check tblite is installed\n",
        "try:\n",
        "  from tblite.ase import TBLite\n",
        "except:\n",
        "  print('tblite is not callable.\\n')\n",
        "  !conda install -q tblite\n",
        "  !conda install -q tblite-python\n",
        "\n",
        "  print('\\nRestart session . . .')\n",
        "\n",
        "  import os\n",
        "  os._exit(0)"
      ],
      "metadata": {
        "id": "40FjJMKO5wL9"
      },
      "execution_count": 6,
      "outputs": []
    },
    {
      "cell_type": "code",
      "source": [
        "# convert pt to jit\n",
        "\n",
        "# direct learning model\n",
        "!xeqjit -c spice_1109.pt -o md.jit --md\n",
        "!xeqjit -c spice_1109.pt -o geo.jit\n",
        "\n",
        "# delta learning model\n",
        "!xeqjit -c d-spice_1111.pt -o d_md.jit --md\n",
        "!xeqjit -c d-spice_1111.pt -o d_geo.jit"
      ],
      "metadata": {
        "colab": {
          "base_uri": "https://localhost:8080/"
        },
        "id": "AX9hCdrSSD8m",
        "outputId": "fceeed56-4cc3-41d5-85ff-44cb06229939"
      },
      "execution_count": 8,
      "outputs": [
        {
          "output_type": "stream",
          "name": "stdout",
          "text": [
            "/usr/local/lib/python3.10/dist-packages/xequinet/interface/__init__.py:17: UserWarning: i-PI is not installed, i-PI driver will not be performed.\n",
            "  warnings.warn(\"i-PI is not installed, i-PI driver will not be performed.\")\n",
            "/usr/local/lib/python3.10/dist-packages/xequinet/interface/__init__.py:17: UserWarning: i-PI is not installed, i-PI driver will not be performed.\n",
            "  warnings.warn(\"i-PI is not installed, i-PI driver will not be performed.\")\n",
            "/usr/local/lib/python3.10/dist-packages/xequinet/interface/__init__.py:17: UserWarning: i-PI is not installed, i-PI driver will not be performed.\n",
            "  warnings.warn(\"i-PI is not installed, i-PI driver will not be performed.\")\n",
            "/usr/local/lib/python3.10/dist-packages/xequinet/interface/__init__.py:17: UserWarning: i-PI is not installed, i-PI driver will not be performed.\n",
            "  warnings.warn(\"i-PI is not installed, i-PI driver will not be performed.\")\n"
          ]
        }
      ]
    },
    {
      "cell_type": "code",
      "source": [
        "import warnings\n",
        "warnings.filterwarnings('ignore')"
      ],
      "metadata": {
        "id": "hi_K7buE5eOw"
      },
      "execution_count": 9,
      "outputs": []
    },
    {
      "cell_type": "markdown",
      "source": [
        "<br>\n",
        "<br>\n",
        "<font color=skyblue size=5> direct learned model </font>\n",
        "<br>\n",
        "<br>\n"
      ],
      "metadata": {
        "id": "ARgOBjUiRoj3"
      }
    },
    {
      "cell_type": "code",
      "source": [
        "# md type model ase test\n",
        "\n",
        "from xequinet.interface import XeqCalculator\n",
        "from ase.build import molecule\n",
        "\n",
        "atoms = molecule('C6H6')\n",
        "\n",
        "calc = XeqCalculator(ckpt_file='md.jit', model_type='md')\n",
        "\n",
        "atoms.calc = calc\n",
        "\n",
        "atoms.get_potential_energy()"
      ],
      "metadata": {
        "colab": {
          "base_uri": "https://localhost:8080/"
        },
        "id": "VwP4sFdDNV14",
        "outputId": "9269e173-ea5c-45b1-e9f1-adcb8e6fe472"
      },
      "execution_count": 12,
      "outputs": [
        {
          "output_type": "execute_result",
          "data": {
            "text/plain": [
              "-6324.118982349497"
            ]
          },
          "metadata": {},
          "execution_count": 12
        }
      ]
    },
    {
      "cell_type": "code",
      "source": [
        "# geometry type model ase test\n",
        "\n",
        "from xequinet.interface import XeqCalculator\n",
        "from ase.build import molecule\n",
        "\n",
        "atoms = molecule('C6H6')\n",
        "\n",
        "calc = XeqCalculator(ckpt_file='geo.jit', model_type='geometry')\n",
        "\n",
        "atoms.calc = calc\n",
        "\n",
        "atoms.get_potential_energy()"
      ],
      "metadata": {
        "colab": {
          "base_uri": "https://localhost:8080/"
        },
        "id": "m4fqiw3vWcw_",
        "outputId": "f07c1e28-a56a-498b-e7bd-1026f6ffce80"
      },
      "execution_count": 13,
      "outputs": [
        {
          "output_type": "execute_result",
          "data": {
            "text/plain": [
              "-6324.118975673778"
            ]
          },
          "metadata": {},
          "execution_count": 13
        }
      ]
    },
    {
      "cell_type": "code",
      "source": [
        "from xequinet.interface import XeqCalculator\n",
        "from ase.optimize import BFGS\n",
        "from ase.build import molecule\n",
        "\n",
        "atoms = molecule('C6H6')\n",
        "\n",
        "calc = XeqCalculator(ckpt_file='geo.jit', model_type='geometry')\n",
        "\n",
        "atoms.calc = calc\n",
        "\n",
        "opt = BFGS(atoms)\n",
        "opt.run(fmax=0.05)"
      ],
      "metadata": {
        "colab": {
          "base_uri": "https://localhost:8080/"
        },
        "id": "xNonh5e8vE11",
        "outputId": "17afb5eb-304f-4dd4-dec4-f0df300fd8b2"
      },
      "execution_count": 16,
      "outputs": [
        {
          "output_type": "stream",
          "name": "stdout",
          "text": [
            "      Step     Time          Energy          fmax\n",
            "BFGS:    0 02:54:21    -6324.118976        0.228401\n",
            "BFGS:    1 02:54:23    -6324.124423        0.185055\n",
            "BFGS:    2 02:54:23    -6324.131480        0.032614\n"
          ]
        },
        {
          "output_type": "execute_result",
          "data": {
            "text/plain": [
              "True"
            ]
          },
          "metadata": {},
          "execution_count": 16
        }
      ]
    },
    {
      "cell_type": "markdown",
      "source": [
        "<br>\n",
        "<br>\n",
        "<font color=skyblue size=5> $\\Delta$-learned model </font>\n",
        "<br>\n",
        "<br>\n"
      ],
      "metadata": {
        "id": "kPt9ikHVTMNz"
      }
    },
    {
      "cell_type": "code",
      "source": [
        "# geo type delta learned model\n",
        "from ase.calculators.mixing import SumCalculator\n",
        "from xequinet.interface import XeqCalculator\n",
        "from tblite.ase import TBLite\n",
        "from ase.build import molecule\n",
        "\n",
        "atoms = molecule('C6H6')\n",
        "\n",
        "delta_calc = SumCalculator([\n",
        "    XeqCalculator(ckpt_file='d_geo.jit', model_type='geometry'), # geo type\n",
        "    TBLite(verbosity=0, method='GFN2-xTB'), # xtb\n",
        "])\n",
        "\n",
        "atoms.calc = delta_calc\n",
        "\n",
        "atoms.get_potential_energy()"
      ],
      "metadata": {
        "colab": {
          "base_uri": "https://localhost:8080/"
        },
        "id": "aejSt5YlUlNo",
        "outputId": "878fa8b3-dfbb-45f1-9040-9dc2447e6706"
      },
      "execution_count": 14,
      "outputs": [
        {
          "output_type": "execute_result",
          "data": {
            "text/plain": [
              "-6324.108374815414"
            ]
          },
          "metadata": {},
          "execution_count": 14
        }
      ]
    },
    {
      "cell_type": "code",
      "source": [
        "# geo type delta learned model\n",
        "from ase.calculators.mixing import SumCalculator\n",
        "from xequinet.interface import XeqCalculator\n",
        "from tblite.ase import TBLite\n",
        "from ase.build import molecule\n",
        "from ase.optimize import BFGS\n",
        "\n",
        "atoms = molecule('C6H6')\n",
        "\n",
        "delta_calc = SumCalculator([\n",
        "    XeqCalculator(ckpt_file='d_geo.jit', model_type='geometry'), # geo type\n",
        "    TBLite(verbosity=0, method='GFN2-xTB'), # xtb\n",
        "])\n",
        "\n",
        "atoms.calc = delta_calc\n",
        "\n",
        "opt = BFGS(atoms)\n",
        "opt.run(fmax=0.05)"
      ],
      "metadata": {
        "colab": {
          "base_uri": "https://localhost:8080/"
        },
        "id": "naYiYUT9vmgM",
        "outputId": "16697bf5-4fd7-4013-a4eb-86eef616187b"
      },
      "execution_count": 17,
      "outputs": [
        {
          "output_type": "stream",
          "name": "stdout",
          "text": [
            "      Step     Time          Energy          fmax\n",
            "BFGS:    0 02:54:58    -6324.108375        0.229776\n",
            "BFGS:    1 02:55:01    -6324.114082        0.190545\n",
            "BFGS:    2 02:55:02    -6324.121398        0.040251\n"
          ]
        },
        {
          "output_type": "execute_result",
          "data": {
            "text/plain": [
              "True"
            ]
          },
          "metadata": {},
          "execution_count": 17
        }
      ]
    },
    {
      "cell_type": "code",
      "source": [
        "# md type delta learned model\n",
        "\n",
        "from ase.calculators.mixing import SumCalculator\n",
        "from xequinet.interface import XeqCalculator\n",
        "from tblite.ase import TBLite\n",
        "from ase.build import molecule\n",
        "\n",
        "atoms = molecule('C6H6')\n",
        "\n",
        "delta_calc = SumCalculator([\n",
        "    XeqCalculator(ckpt_file='d_md.jit', model_type='md'), # md type\n",
        "    TBLite(verbosity=0, method='GFN2-xTB'), # xtb\n",
        "])\n",
        "\n",
        "atoms.calc = delta_calc\n",
        "\n",
        "atoms.get_potential_energy()"
      ],
      "metadata": {
        "colab": {
          "base_uri": "https://localhost:8080/"
        },
        "id": "LMZPY9hmWGZR",
        "outputId": "64fcc332-c7a2-4c33-947c-8087cdaab533"
      },
      "execution_count": 23,
      "outputs": [
        {
          "output_type": "execute_result",
          "data": {
            "text/plain": [
              "-6324.108375947902"
            ]
          },
          "metadata": {},
          "execution_count": 23
        }
      ]
    },
    {
      "cell_type": "code",
      "source": [],
      "metadata": {
        "id": "5FkGlUrWwGhu"
      },
      "execution_count": null,
      "outputs": []
    }
  ],
  "metadata": {
    "colab": {
      "provenance": [],
      "include_colab_link": true
    },
    "kernelspec": {
      "display_name": "Python 3",
      "name": "python3"
    }
  },
  "nbformat": 4,
  "nbformat_minor": 0
}